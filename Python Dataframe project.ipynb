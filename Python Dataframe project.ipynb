{
 "cells": [
  {
   "cell_type": "code",
   "execution_count": 1,
   "id": "e13d1105-801c-4923-9068-966828776d51",
   "metadata": {},
   "outputs": [],
   "source": [
    "import pandas as pd\n",
    "import numpy as np"
   ]
  },
  {
   "cell_type": "code",
   "execution_count": 2,
   "id": "74d016f6-f582-4e9a-a7f9-00319f3cde3e",
   "metadata": {},
   "outputs": [
    {
     "name": "stdout",
     "output_type": "stream",
     "text": [
      "     ID             Name Gender     City  Age\n",
      "0  A001       John Alter      M    Paris   25\n",
      "1  A002  Alice Luxumberg      F   London   27\n",
      "2  A003    Tom Sabestine      M   Berlin   29\n",
      "3  A004       Nina Adgra      F  Newyork   31\n",
      "4  A005        Amy Johny      F   Madrid   30\n"
     ]
    }
   ],
   "source": [
    "# Employee DataFrame\n",
    "employee_data = {\n",
    "    \"ID\": [\"A001\", \"A002\", \"A003\", \"A004\", \"A005\"],\n",
    "    \"Name\": [\"John Alter\", \"Alice Luxumberg\", \"Tom Sabestine\", \"Nina Adgra\", \"Amy Johny\"],\n",
    "    \"Gender\": [\"M\", \"F\", \"M\", \"F\", \"F\"],\n",
    "    \"City\": [\"Paris\", \"London\", \"Berlin\", \"Newyork\", \"Madrid\"],\n",
    "    \"Age\": [25, 27, 29, 31, 30]\n",
    "}\n",
    "\n",
    "employee_df = pd.DataFrame(employee_data)\n",
    "employee_df.to_csv(\"Employee.csv\", index=False) #saving to csv\n",
    "print(employee_df) # printing the DataFrame"
   ]
  },
  {
   "cell_type": "code",
   "execution_count": 3,
   "id": "52e17729-25d8-4481-bf13-c9407add062d",
   "metadata": {},
   "outputs": [
    {
     "name": "stdout",
     "output_type": "stream",
     "text": [
      "      ID     Project     Cost    Status\n",
      "0   A001   Project 1  1002000  Finished\n",
      "1   A002   Project 2  2000000   Ongoing\n",
      "2   A003   Project 3  4500000  Finished\n",
      "3   A004   Project 4  5500000   Ongoing\n",
      "4   A005   Project 5           Finished\n",
      "5   A002   Project 6   680000    Failed\n",
      "6   A005   Project 7   400000  Finished\n",
      "7   A003   Project 8   350000    Failed\n",
      "8   A001   Project 9            Ongoing\n",
      "9   A003  Project 10   300000  Finished\n",
      "10  A001  Project 11  2000000    Failed\n",
      "11  A004  Project 12  1000000   Ongoing\n",
      "12  A004  Project 13  3000000  Finished\n",
      "13  A005  Project 14   200000  Finished\n"
     ]
    }
   ],
   "source": [
    "#Project DataFrame\n",
    "project_data = {\n",
    "    \"ID\": [\"A001\", \"A002\", \"A003\", \"A004\", \"A005\",\"A002\",\"A005\",\"A003\",\"A001\",\"A003\",\"A001\",\"A004\",\"A004\",\"A005\"],\n",
    "    \"Project\":[\"Project 1\",\"Project 2\",\"Project 3\",\"Project 4\",\"Project 5\",\"Project 6\",\"Project 7\",\n",
    "               \"Project 8\",\"Project 9\",\"Project 10\",\"Project 11\",\"Project 12\",\"Project 13\",\"Project 14\"],\n",
    "    \"Cost\": [1002000,2000000,4500000,5500000,'' ,680000,400000,350000,''  ,300000,2000000,1000000,3000000,200000],\n",
    "    \"Status\": [\"Finished\",\"Ongoing\",\"Finished\",\"Ongoing\",\"Finished\",\"Failed\",\"Finished\",\"Failed\",\"Ongoing\",\"Finished\",\"Failed\",\n",
    "              \"Ongoing\", \"Finished\",\"Finished\"],\n",
    "}\n",
    "\n",
    "project_df = pd.DataFrame(project_data)\n",
    "project_df.to_csv(\"Project.csv\", index=False)\n",
    "print(project_df)"
   ]
  },
  {
   "cell_type": "code",
   "execution_count": 4,
   "id": "7a3a88fd-dd20-415e-8376-61e4c0f167df",
   "metadata": {},
   "outputs": [
    {
     "name": "stdout",
     "output_type": "stream",
     "text": [
      "     ID  Designation Level\n",
      "0  A001                  2\n",
      "1  A002                  2\n",
      "2  A003                  3\n",
      "3  A004                  2\n",
      "4  A005                  3\n"
     ]
    }
   ],
   "source": [
    "#Seniority level DataFrame\n",
    "seniority_data = {\n",
    "    \"ID\": [\"A001\", \"A002\", \"A003\", \"A004\", \"A005\"],\n",
    "    \"Designation Level\":[2,2,3,2,3],\n",
    "}\n",
    "\n",
    "seniority_df = pd.DataFrame(seniority_data)\n",
    "seniority_df.to_csv(\"Seniority.csv\", index=False)\n",
    "print(seniority_df)"
   ]
  },
  {
   "cell_type": "code",
   "execution_count": 5,
   "id": "699daae4-973b-4df0-a9d5-9f3c3ff6c4c2",
   "metadata": {},
   "outputs": [
    {
     "name": "stdout",
     "output_type": "stream",
     "text": [
      "      ID     Project       Cost    Status\n",
      "0   A001   Project 1  1002000.0  Finished\n",
      "1   A002   Project 2  2000000.0   Ongoing\n",
      "2   A003   Project 3  4500000.0  Finished\n",
      "3   A004   Project 4  5500000.0   Ongoing\n",
      "4   A005   Project 5  3250500.0  Finished\n",
      "5   A002   Project 6   680000.0    Failed\n",
      "6   A005   Project 7   400000.0  Finished\n",
      "7   A003   Project 8   350000.0    Failed\n",
      "8   A001   Project 9  2210312.5   Ongoing\n",
      "9   A003  Project 10   300000.0  Finished\n",
      "10  A001  Project 11  2000000.0    Failed\n",
      "11  A004  Project 12  1000000.0   Ongoing\n",
      "12  A004  Project 13  3000000.0  Finished\n",
      "13  A005  Project 14   200000.0  Finished\n"
     ]
    }
   ],
   "source": [
    "#Task: 2\n",
    "project_df = pd.read_csv(\"Project.csv\")\n",
    "\n",
    "for i in range(len(project_df)):\n",
    "    if pd.isnull(project_df.loc[i, 'Cost']):\n",
    "        project_df.loc[i, 'Cost'] = project_df[ 'Cost'][:i].mean() # inserting the blank cells in cost column with average values\n",
    "\n",
    "project_df.to_csv(\"Project.csv\", index=False)\n",
    "print (project_df)"
   ]
  },
  {
   "cell_type": "code",
   "execution_count": 6,
   "id": "4b7319c0-aaa9-4ab9-9299-65f37a5a2cbb",
   "metadata": {},
   "outputs": [],
   "source": [
    "#Task: 3\n",
    "employee_df = pd.read_csv(\"Employee.csv\")\n",
    "employee_df[['First Name', 'Last Name']] = employee_df['Name'].str.split(' ', expand=True) # Splitting name into first name and last name\n",
    "employee_df.drop(columns=['Name'], inplace=True)\n",
    "employee_df.to_csv(\"Employee.csv\", index=False)"
   ]
  },
  {
   "cell_type": "code",
   "execution_count": 7,
   "id": "2b03a5ed-65be-4c98-b0ce-edb639a0c9b2",
   "metadata": {},
   "outputs": [
    {
     "name": "stdout",
     "output_type": "stream",
     "text": [
      "     ID Gender     City  Age First Name  Last Name\n",
      "0  A001      M    Paris   25       John      Alter\n",
      "1  A002      F   London   27      Alice  Luxumberg\n",
      "2  A003      M   Berlin   29        Tom  Sabestine\n",
      "3  A004      F  Newyork   31       Nina      Adgra\n",
      "4  A005      F   Madrid   30        Amy      Johny\n"
     ]
    }
   ],
   "source": [
    "#Task: 3 \n",
    "employee_df = pd.read_csv(\"Employee.csv\")\n",
    "print(employee_df)"
   ]
  },
  {
   "cell_type": "code",
   "execution_count": 8,
   "id": "ac5120b4-d54e-4994-834e-0a9f05af6e7f",
   "metadata": {},
   "outputs": [
    {
     "name": "stdout",
     "output_type": "stream",
     "text": [
      "      ID Gender     City  Age First Name  Last Name  Designation Level  \\\n",
      "0   A001      M    Paris   25       John      Alter                  2   \n",
      "1   A001      M    Paris   25       John      Alter                  2   \n",
      "2   A001      M    Paris   25       John      Alter                  2   \n",
      "3   A002      F   London   27      Alice  Luxumberg                  2   \n",
      "4   A002      F   London   27      Alice  Luxumberg                  2   \n",
      "5   A003      M   Berlin   29        Tom  Sabestine                  3   \n",
      "6   A003      M   Berlin   29        Tom  Sabestine                  3   \n",
      "7   A003      M   Berlin   29        Tom  Sabestine                  3   \n",
      "8   A004      F  Newyork   31       Nina      Adgra                  2   \n",
      "9   A004      F  Newyork   31       Nina      Adgra                  2   \n",
      "10  A004      F  Newyork   31       Nina      Adgra                  2   \n",
      "11  A005      F   Madrid   30        Amy      Johny                  3   \n",
      "12  A005      F   Madrid   30        Amy      Johny                  3   \n",
      "13  A005      F   Madrid   30        Amy      Johny                  3   \n",
      "\n",
      "       Project       Cost    Status  \n",
      "0    Project 1  1002000.0  Finished  \n",
      "1    Project 9  2210312.5   Ongoing  \n",
      "2   Project 11  2000000.0    Failed  \n",
      "3    Project 2  2000000.0   Ongoing  \n",
      "4    Project 6   680000.0    Failed  \n",
      "5    Project 3  4500000.0  Finished  \n",
      "6    Project 8   350000.0    Failed  \n",
      "7   Project 10   300000.0  Finished  \n",
      "8    Project 4  5500000.0   Ongoing  \n",
      "9   Project 12  1000000.0   Ongoing  \n",
      "10  Project 13  3000000.0  Finished  \n",
      "11   Project 5  3250500.0  Finished  \n",
      "12   Project 7   400000.0  Finished  \n",
      "13  Project 14   200000.0  Finished  \n"
     ]
    }
   ],
   "source": [
    "#Task: 4\n",
    "final_df = pd.merge(employee_df, seniority_df, on=\"ID\") #Merging employee and seniority df's\n",
    "final_df = pd.merge(final_df, project_df, on=\"ID\") #merging project df\n",
    "final_df.to_csv(\"Final.csv\", index=False)\n",
    "print (final_df)"
   ]
  },
  {
   "cell_type": "code",
   "execution_count": 9,
   "id": "772ed295-b1f9-47e7-99ad-311f50feea52",
   "metadata": {},
   "outputs": [
    {
     "name": "stdout",
     "output_type": "stream",
     "text": [
      "      ID Gender     City  Age First Name  Last Name  Designation Level  \\\n",
      "0   A001      M    Paris   25       John      Alter                  2   \n",
      "1   A001      M    Paris   25       John      Alter                  2   \n",
      "2   A001      M    Paris   25       John      Alter                  2   \n",
      "3   A002      F   London   27      Alice  Luxumberg                  2   \n",
      "4   A002      F   London   27      Alice  Luxumberg                  2   \n",
      "5   A003      M   Berlin   29        Tom  Sabestine                  3   \n",
      "6   A003      M   Berlin   29        Tom  Sabestine                  3   \n",
      "7   A003      M   Berlin   29        Tom  Sabestine                  3   \n",
      "8   A004      F  Newyork   31       Nina      Adgra                  2   \n",
      "9   A004      F  Newyork   31       Nina      Adgra                  2   \n",
      "10  A004      F  Newyork   31       Nina      Adgra                  2   \n",
      "11  A005      F   Madrid   30        Amy      Johny                  3   \n",
      "12  A005      F   Madrid   30        Amy      Johny                  3   \n",
      "13  A005      F   Madrid   30        Amy      Johny                  3   \n",
      "\n",
      "       Project       Cost    Status     Bonus  \n",
      "0    Project 1  1002000.0  Finished   50100.0  \n",
      "1    Project 9  2210312.5   Ongoing       0.0  \n",
      "2   Project 11  2000000.0    Failed       0.0  \n",
      "3    Project 2  2000000.0   Ongoing       0.0  \n",
      "4    Project 6   680000.0    Failed       0.0  \n",
      "5    Project 3  4500000.0  Finished  225000.0  \n",
      "6    Project 8   350000.0    Failed       0.0  \n",
      "7   Project 10   300000.0  Finished   15000.0  \n",
      "8    Project 4  5500000.0   Ongoing       0.0  \n",
      "9   Project 12  1000000.0   Ongoing       0.0  \n",
      "10  Project 13  3000000.0  Finished  150000.0  \n",
      "11   Project 5  3250500.0  Finished  162525.0  \n",
      "12   Project 7   400000.0  Finished   20000.0  \n",
      "13  Project 14   200000.0  Finished   10000.0  \n"
     ]
    }
   ],
   "source": [
    "#Task 5\n",
    "final_df['Bonus'] = final_df.apply(lambda row: row['Cost'] * 0.05 if row['Status'] == 'Finished' else 0, axis=1) # adding bonus to finished projects\n",
    "final_df.to_csv(\"Final.csv\", index=False)\n",
    "print(final_df)"
   ]
  },
  {
   "cell_type": "code",
   "execution_count": 10,
   "id": "82a180d4-090b-4196-8a78-a9f4cae70be6",
   "metadata": {},
   "outputs": [
    {
     "name": "stdout",
     "output_type": "stream",
     "text": [
      "      ID Gender     City  Age First Name  Last Name  Designation Level  \\\n",
      "0   A001      M    Paris   25       John      Alter                  2   \n",
      "1   A001      M    Paris   25       John      Alter                  2   \n",
      "2   A001      M    Paris   25       John      Alter                  1   \n",
      "3   A002      F   London   27      Alice  Luxumberg                  2   \n",
      "4   A002      F   London   27      Alice  Luxumberg                  1   \n",
      "5   A003      M   Berlin   29        Tom  Sabestine                  3   \n",
      "6   A003      M   Berlin   29        Tom  Sabestine                  2   \n",
      "7   A003      M   Berlin   29        Tom  Sabestine                  3   \n",
      "8   A004      F  Newyork   31       Nina      Adgra                  2   \n",
      "9   A004      F  Newyork   31       Nina      Adgra                  2   \n",
      "10  A004      F  Newyork   31       Nina      Adgra                  2   \n",
      "11  A005      F   Madrid   30        Amy      Johny                  3   \n",
      "12  A005      F   Madrid   30        Amy      Johny                  3   \n",
      "13  A005      F   Madrid   30        Amy      Johny                  3   \n",
      "\n",
      "       Project       Cost    Status     Bonus  \n",
      "0    Project 1  1002000.0  Finished   50100.0  \n",
      "1    Project 9  2210312.5   Ongoing       0.0  \n",
      "2   Project 11  2000000.0    Failed       0.0  \n",
      "3    Project 2  2000000.0   Ongoing       0.0  \n",
      "4    Project 6   680000.0    Failed       0.0  \n",
      "5    Project 3  4500000.0  Finished  225000.0  \n",
      "6    Project 8   350000.0    Failed       0.0  \n",
      "7   Project 10   300000.0  Finished   15000.0  \n",
      "8    Project 4  5500000.0   Ongoing       0.0  \n",
      "9   Project 12  1000000.0   Ongoing       0.0  \n",
      "10  Project 13  3000000.0  Finished  150000.0  \n",
      "11   Project 5  3250500.0  Finished  162525.0  \n",
      "12   Project 7   400000.0  Finished   20000.0  \n",
      "13  Project 14   200000.0  Finished   10000.0  \n"
     ]
    }
   ],
   "source": [
    "#Task 6\n",
    "final_df.loc[final_df['Status'] == 'Failed', 'Designation Level'] -= 1 # lowering designation level of failed projects\n",
    "final_df = final_df[final_df['Designation Level'] <= 4]\n",
    "final_df.to_csv(\"Final.csv\", index=False)\n",
    "print(final_df)"
   ]
  },
  {
   "cell_type": "code",
   "execution_count": 11,
   "id": "e80f2bc8-ed66-404b-9481-f8fad485c0d3",
   "metadata": {},
   "outputs": [],
   "source": [
    "#Task 7\n",
    "final_df['First Name'] = final_df.apply(lambda row: ('Mr. ' if row['Gender'] == 'M' else 'Mrs. ') + row['First Name'], axis=1) # Adding Mr. and Mrs. to first names\n",
    "final_df.drop(columns=['Gender'], inplace=True) #Dropping gender Cloumn\n",
    "final_df.to_csv(\"Final.csv\", index=False)"
   ]
  },
  {
   "cell_type": "code",
   "execution_count": 12,
   "id": "317c8e66-fce8-41ca-b676-ee33e5dd1099",
   "metadata": {},
   "outputs": [
    {
     "name": "stdout",
     "output_type": "stream",
     "text": [
      "      ID     City  Age  First Name  Last Name  Designation Level     Project  \\\n",
      "0   A001    Paris   25    Mr. John      Alter                  2   Project 1   \n",
      "1   A001    Paris   25    Mr. John      Alter                  2   Project 9   \n",
      "2   A001    Paris   25    Mr. John      Alter                  1  Project 11   \n",
      "3   A002   London   27  Mrs. Alice  Luxumberg                  2   Project 2   \n",
      "4   A002   London   27  Mrs. Alice  Luxumberg                  1   Project 6   \n",
      "5   A003   Berlin   29     Mr. Tom  Sabestine                  3   Project 3   \n",
      "6   A003   Berlin   29     Mr. Tom  Sabestine                  2   Project 8   \n",
      "7   A003   Berlin   29     Mr. Tom  Sabestine                  3  Project 10   \n",
      "8   A004  Newyork   31   Mrs. Nina      Adgra                  2   Project 4   \n",
      "9   A004  Newyork   31   Mrs. Nina      Adgra                  2  Project 12   \n",
      "10  A004  Newyork   31   Mrs. Nina      Adgra                  2  Project 13   \n",
      "11  A005   Madrid   30    Mrs. Amy      Johny                  3   Project 5   \n",
      "12  A005   Madrid   30    Mrs. Amy      Johny                  3   Project 7   \n",
      "13  A005   Madrid   30    Mrs. Amy      Johny                  3  Project 14   \n",
      "\n",
      "         Cost    Status     Bonus  \n",
      "0   1002000.0  Finished   50100.0  \n",
      "1   2210312.5   Ongoing       0.0  \n",
      "2   2000000.0    Failed       0.0  \n",
      "3   2000000.0   Ongoing       0.0  \n",
      "4    680000.0    Failed       0.0  \n",
      "5   4500000.0  Finished  225000.0  \n",
      "6    350000.0    Failed       0.0  \n",
      "7    300000.0  Finished   15000.0  \n",
      "8   5500000.0   Ongoing       0.0  \n",
      "9   1000000.0   Ongoing       0.0  \n",
      "10  3000000.0  Finished  150000.0  \n",
      "11  3250500.0  Finished  162525.0  \n",
      "12   400000.0  Finished   20000.0  \n",
      "13   200000.0  Finished   10000.0  \n"
     ]
    }
   ],
   "source": [
    "final_df = pd.read_csv(\"Final.csv\")\n",
    "print(final_df)"
   ]
  },
  {
   "cell_type": "code",
   "execution_count": 13,
   "id": "ef5a067d-90eb-4edb-9350-409d2f0913c6",
   "metadata": {},
   "outputs": [
    {
     "name": "stdout",
     "output_type": "stream",
     "text": [
      "      ID     City  Age  First Name  Last Name  Designation Level     Project  \\\n",
      "0   A001    Paris   25    Mr. John      Alter                  2   Project 1   \n",
      "1   A001    Paris   25    Mr. John      Alter                  2   Project 9   \n",
      "2   A001    Paris   25    Mr. John      Alter                  1  Project 11   \n",
      "3   A002   London   27  Mrs. Alice  Luxumberg                  2   Project 2   \n",
      "4   A002   London   27  Mrs. Alice  Luxumberg                  1   Project 6   \n",
      "5   A003   Berlin   29     Mr. Tom  Sabestine                  3   Project 3   \n",
      "6   A003   Berlin   29     Mr. Tom  Sabestine                  2   Project 8   \n",
      "7   A003   Berlin   29     Mr. Tom  Sabestine                  3  Project 10   \n",
      "8   A004  Newyork   31   Mrs. Nina      Adgra                  3   Project 4   \n",
      "9   A004  Newyork   31   Mrs. Nina      Adgra                  3  Project 12   \n",
      "10  A004  Newyork   31   Mrs. Nina      Adgra                  3  Project 13   \n",
      "11  A005   Madrid   30    Mrs. Amy      Johny                  4   Project 5   \n",
      "12  A005   Madrid   30    Mrs. Amy      Johny                  4   Project 7   \n",
      "13  A005   Madrid   30    Mrs. Amy      Johny                  4  Project 14   \n",
      "\n",
      "         Cost    Status     Bonus  \n",
      "0   1002000.0  Finished   50100.0  \n",
      "1   2210312.5   Ongoing       0.0  \n",
      "2   2000000.0    Failed       0.0  \n",
      "3   2000000.0   Ongoing       0.0  \n",
      "4    680000.0    Failed       0.0  \n",
      "5   4500000.0  Finished  225000.0  \n",
      "6    350000.0    Failed       0.0  \n",
      "7    300000.0  Finished   15000.0  \n",
      "8   5500000.0   Ongoing       0.0  \n",
      "9   1000000.0   Ongoing       0.0  \n",
      "10  3000000.0  Finished  150000.0  \n",
      "11  3250500.0  Finished  162525.0  \n",
      "12   400000.0  Finished   20000.0  \n",
      "13   200000.0  Finished   10000.0  \n"
     ]
    }
   ],
   "source": [
    "#Task 8\n",
    "\n",
    "# Apply the IF condition: Increase 'Designation Level' by 1 if 'Age' > 29\n",
    "final_df['Designation Level'] = final_df.apply(lambda row: row['Designation Level'] + 1 if row['Age'] > 29 else row['Designation Level'], axis=1)\n",
    "final_df.to_csv(\"Final.csv\", index=False)\n",
    "print(final_df)\n"
   ]
  },
  {
   "cell_type": "code",
   "execution_count": 20,
   "id": "ac41ab08-3a45-4ebe-912f-2385510be313",
   "metadata": {},
   "outputs": [],
   "source": [
    "#Task: 9\n",
    "total_proj_cost = final_df.groupby(['ID', 'First Name'])['Cost'].sum().reset_index()\n",
    "total_proj_cost.columns = ['ID', 'First Name', 'Total Cost']\n",
    "total_proj_cost.to_csv(\"TotalProjCost.csv\", index=False)"
   ]
  },
  {
   "cell_type": "code",
   "execution_count": 22,
   "id": "6c42ffac-06e7-4b07-a4ba-961875f12a6b",
   "metadata": {},
   "outputs": [
    {
     "name": "stdout",
     "output_type": "stream",
     "text": [
      "     ID  First Name  Total Cost\n",
      "0  A001    Mr. John   5212312.5\n",
      "1  A002  Mrs. Alice   2680000.0\n",
      "2  A003     Mr. Tom   5150000.0\n",
      "3  A004   Mrs. Nina   9500000.0\n",
      "4  A005    Mrs. Amy   3850500.0\n"
     ]
    }
   ],
   "source": [
    "total_proj_cost_df = pd.read_csv(\"TotalProjCost.csv\")\n",
    "print(total_proj_cost_df)"
   ]
  },
  {
   "cell_type": "code",
   "execution_count": 23,
   "id": "2f1a34a0-0933-4809-acbb-3e530aa6249d",
   "metadata": {},
   "outputs": [
    {
     "name": "stdout",
     "output_type": "stream",
     "text": [
      "      ID     City  Age  First Name  Last Name  Designation Level     Project  \\\n",
      "3   A002   London   27  Mrs. Alice  Luxumberg                  2   Project 2   \n",
      "4   A002   London   27  Mrs. Alice  Luxumberg                  1   Project 6   \n",
      "8   A004  Newyork   31   Mrs. Nina      Adgra                  3   Project 4   \n",
      "9   A004  Newyork   31   Mrs. Nina      Adgra                  3  Project 12   \n",
      "10  A004  Newyork   31   Mrs. Nina      Adgra                  3  Project 13   \n",
      "\n",
      "         Cost    Status     Bonus  \n",
      "3   2000000.0   Ongoing       0.0  \n",
      "4    680000.0    Failed       0.0  \n",
      "8   5500000.0   Ongoing       0.0  \n",
      "9   1000000.0   Ongoing       0.0  \n",
      "10  3000000.0  Finished  150000.0  \n"
     ]
    }
   ],
   "source": [
    "#Task: 10\n",
    "filtered_employees = final_df[final_df['City'].str.contains('o', case=False)]\n",
    "print(filtered_employees)"
   ]
  },
  {
   "cell_type": "code",
   "execution_count": null,
   "id": "a5e6a16f-3d44-4462-87b3-5bac9e44d43a",
   "metadata": {},
   "outputs": [],
   "source": []
  }
 ],
 "metadata": {
  "kernelspec": {
   "display_name": "Python 3 (ipykernel)",
   "language": "python",
   "name": "python3"
  },
  "language_info": {
   "codemirror_mode": {
    "name": "ipython",
    "version": 3
   },
   "file_extension": ".py",
   "mimetype": "text/x-python",
   "name": "python",
   "nbconvert_exporter": "python",
   "pygments_lexer": "ipython3",
   "version": "3.11.4"
  }
 },
 "nbformat": 4,
 "nbformat_minor": 5
}
